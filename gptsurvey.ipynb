{
 "cells": [
  {
   "cell_type": "code",
   "execution_count": null,
   "id": "0b44d098-692d-4a78-853d-f80e9d0dcb3d",
   "metadata": {},
   "outputs": [],
   "source": [
    "#basics\n",
    "import pandas as pd\n",
    "import numpy as np\n",
    "\n",
    "#stats\n",
    "import itertools\n",
    "import scipy.stats\n",
    "import statsmodels.stats.multitest\n",
    "import statannotations.Annotator\n",
    "from scipy.stats import fisher_exact\n",
    "# from scipy.stats import chi2_contingency\n",
    "# from scipy.stats import chi2\n",
    "\n",
    "#tableone\n",
    "from tableone import TableOne, load_dataset \n",
    "\n",
    "#graphing\n",
    "import matplotlib as mpl\n",
    "import matplotlib.pyplot as plt\n",
    "import matplotlib.pyplot as plt\n",
    "import matplotlib.patches as mpatches\n",
    "import seaborn as sns\n",
    "mpl.rcParams['pdf.fonttype'] = 42  # edit-able in illustrator\n",
    "mpl.rcParams['font.sans-serif'] = 'Arial'\n",
    "pd.set_option('display.max_columns', None)\n",
    "import plotly.express as px\n",
    "import plot_likert\n",
    "\n",
    "#display all outputs\n",
    "from IPython.core.interactiveshell import InteractiveShell\n",
    "InteractiveShell.ast_node_interactivity = \"all\""
   ]
  },
  {
   "cell_type": "markdown",
   "id": "0369d73f-a3f1-43bb-bca9-857503fd68e0",
   "metadata": {},
   "source": [
    "Import Data"
   ]
  },
  {
   "cell_type": "code",
   "execution_count": null,
   "id": "d9bd6a3d-5117-43b9-a697-ad313b684184",
   "metadata": {},
   "outputs": [],
   "source": [
    "survey = pd.read_excel({filename}.xlsx\")"
   ]
  },
  {
   "cell_type": "code",
   "execution_count": null,
   "id": "10210255-c5c5-4b28-a496-892a9c427e24",
   "metadata": {},
   "outputs": [],
   "source": [
    "#take only columns of interest\n"
   ]
  },
  {
   "cell_type": "code",
   "execution_count": null,
   "id": "b4592736-9e0f-48b5-8008-90ebd0968457",
   "metadata": {},
   "outputs": [],
   "source": [
    "survey = survey.iloc[:,5:11]"
   ]
  },
  {
   "cell_type": "code",
   "execution_count": null,
   "id": "6a8c1164-eea8-43bc-96aa-8cc598693fd1",
   "metadata": {},
   "outputs": [],
   "source": [
    "survey = survey.iloc[1:,:]"
   ]
  },
  {
   "cell_type": "code",
   "execution_count": null,
   "id": "0d251f13-acbc-4ca4-87f6-1bfabda64c27",
   "metadata": {},
   "outputs": [],
   "source": [
    "#rename columns easier\n",
    "mapping = {\n",
    "    survey.columns[0]: 'Role', \n",
    "    survey.columns[1]: 'Used_before',\n",
    "    survey.columns[2]: 'Interested',\n",
    "    survey.columns[3]: 'Education',\n",
    "    survey.columns[4]: 'Research',\n",
    "    survey.columns[5]: 'Healthcare',}\n",
    "survey = survey.rename(columns=mapping)"
   ]
  },
  {
   "cell_type": "markdown",
   "id": "79969e3a-af9d-4995-8516-e6eca1121d38",
   "metadata": {},
   "source": [
    "## Clean "
   ]
  },
  {
   "cell_type": "code",
   "execution_count": null,
   "id": "0393de0b-b45b-4141-833b-2b0529978b6f",
   "metadata": {},
   "outputs": [],
   "source": [
    "survey.iloc[:,0].value_counts()"
   ]
  },
  {
   "cell_type": "code",
   "execution_count": null,
   "id": "488f713c-f15f-42d5-97cf-76f18f198739",
   "metadata": {},
   "outputs": [],
   "source": [
    "# take most clinical role \n",
    "survey.loc[survey.Role=='Clinical Faculty; Research Faculty', 'Role'] = 'Clinical Faculty'\n",
    "survey.loc[survey.Role=='Clinical Faculty; Administrative Staff', 'Role'] = 'Clinical Faculty'\n",
    "survey.loc[survey.Role=='Clinical Faculty; Other', 'Role'] = 'Clinical Faculty'\n",
    "survey.loc[survey.Role=='Medical Student, Resident, Fellow; Graduate Student, Postdoc Researcher; Research Faculty', 'Role'] = 'Medical Student, Resident, Fellow'\n",
    "survey.loc[survey.Role=='Medical Student, Resident, Fellow; Graduate Student, Postdoc Researcher; Other', 'Role'] = 'Medical Student, Resident, Fellow'"
   ]
  },
  {
   "cell_type": "code",
   "execution_count": null,
   "id": "138f0afc-a089-468b-9c25-c0dcfa3bde71",
   "metadata": {},
   "outputs": [],
   "source": [
    "# take most academic role \n",
    "survey.loc[survey.Role=='Research Faculty; Administrative Staff', 'Role'] = 'Research Faculty'\n",
    "survey.loc[survey.Role=='Research Faculty; Other', 'Role'] = 'Research Faculty'\n",
    "survey.loc[survey.Role=='Graduate Student, Postdoc Researcher; Administrative Staff', 'Role'] = 'Graduate Student, Postdoc Researcher'"
   ]
  },
  {
   "cell_type": "code",
   "execution_count": null,
   "id": "abea9ca7-d6f4-4964-bf12-2be7c0d80a93",
   "metadata": {},
   "outputs": [],
   "source": [
    "# clean misc other\n",
    "survey.loc[survey.Role=='Administrative Staff; Other', 'Role'] = 'Administrative Staff'\n"
   ]
  },
  {
   "cell_type": "code",
   "execution_count": null,
   "id": "782f99f6-e564-4805-91e5-7a9b9a0dac4d",
   "metadata": {},
   "outputs": [],
   "source": [
    "role_counts = survey.iloc[:,0].value_counts().reset_index()"
   ]
  },
  {
   "cell_type": "code",
   "execution_count": null,
   "id": "854e0bf4-2623-4c0a-9a50-e5c222c6610a",
   "metadata": {},
   "outputs": [],
   "source": [
    "role_counts['total'] = 420"
   ]
  },
  {
   "cell_type": "code",
   "execution_count": null,
   "id": "a6dfd617-381a-45b6-9b99-6937c47fda95",
   "metadata": {},
   "outputs": [],
   "source": [
    "role_counts['ratio'] = role_counts.Role/role_counts.total"
   ]
  },
  {
   "cell_type": "code",
   "execution_count": null,
   "id": "28cdfe3c-22f7-4892-8307-f87b18dff8c5",
   "metadata": {},
   "outputs": [],
   "source": [
    "role_counts"
   ]
  },
  {
   "cell_type": "code",
   "execution_count": null,
   "id": "6039de4e-ab7d-45eb-a713-36af589f9ee1",
   "metadata": {},
   "outputs": [],
   "source": [
    "# rewrite capitalization\n",
    "survey.loc[survey.Interested=='To a Great Extent', 'Interested'] = 'To a great extent'"
   ]
  },
  {
   "cell_type": "code",
   "execution_count": null,
   "id": "58c066d3-ea34-43df-b374-adf06b8a7a04",
   "metadata": {},
   "outputs": [],
   "source": [
    "# rewrite long answer\n",
    "survey.loc[survey.Healthcare=='Yes, it can only be used to help write administrative content such as emails to insurance companies or to patients', 'Healthcare'] = 'Yes, it can be used for administrative purposes'"
   ]
  },
  {
   "cell_type": "code",
   "execution_count": null,
   "id": "e0e3885d",
   "metadata": {},
   "outputs": [],
   "source": [
    "# set categorical order\n",
    "\n",
    "survey['Role'] = pd.Categorical(survey['Role'],\n",
    "                                   categories=['Medical Student, Resident, Fellow', 'Graduate Student, Postdoc Researcher', \n",
    "                                               'Clinical Faculty', 'Research Faculty', 'Administrative Staff', 'Other'],\n",
    "                                   ordered=True)\n",
    "\n",
    "survey['Interested'] = pd.Categorical(survey['Interested'],\n",
    "                                   categories=['Not at all', 'Very little', 'Somewhat', 'To a great extent'],\n",
    "                                   ordered=True)\n",
    "survey['Education'] = pd.Categorical(survey['Education'],\n",
    "                                   categories=['No, it should be banned', \"I don't know, it is too early to make a statement\", 'Yes, it should be actively incorporated',],\n",
    "                                   ordered=True)\n",
    "survey['Research'] = pd.Categorical(survey['Research'],\n",
    "                                   categories=['No, it should not be used at all', \n",
    "                                               \"I don't know, it is too early to make a statement\", \n",
    "                                               'Yes, but it should only be used to help brainstorm',\n",
    "                                               \"Yes, as long as its use is transparently disclosed\",\n",
    "                                               \"Yes, disclosure is NOT needed\"\n",
    "                                              ],\n",
    "                                   ordered=True)\n",
    "survey['Healthcare'] = pd.Categorical(survey['Healthcare'],\n",
    "                                   categories=['No, it should not be used at all', \n",
    "                                               \"I don't know, it is too early to make a statement\", \n",
    "                                               'Yes, it can be used for administrative purposes',\n",
    "                                               \"Yes, it can be used for any purpose\",\n",
    "                                              ],\n",
    "                                   ordered=True)"
   ]
  },
  {
   "cell_type": "code",
   "execution_count": null,
   "id": "a7eedc4d-2dd4-485d-812d-9409763854da",
   "metadata": {},
   "outputs": [],
   "source": [
    "#binarize responses for fishers exact testing\n"
   ]
  },
  {
   "cell_type": "code",
   "execution_count": null,
   "id": "2461ed58-1c72-4d85-83ec-2432fa17a48a",
   "metadata": {},
   "outputs": [],
   "source": [
    "survey.Healthcare.value_counts()"
   ]
  },
  {
   "cell_type": "code",
   "execution_count": null,
   "id": "7b439449-8b8f-46c1-8d6f-537a57e9e7ce",
   "metadata": {},
   "outputs": [],
   "source": [
    "survey['Education_binary'] = np.where(survey.Education=='Yes, it should be actively incorporated','Yes','No+unsure')"
   ]
  },
  {
   "cell_type": "code",
   "execution_count": null,
   "id": "f0d1b4ac-8518-4f69-b056-859e3990fdf7",
   "metadata": {},
   "outputs": [],
   "source": [
    "survey['Research_binary'] = np.where(\n",
    "    survey.Research.str.contains('Yes') ,\n",
    "    'Yes','No+unsure')"
   ]
  },
  {
   "cell_type": "code",
   "execution_count": null,
   "id": "7778f2d7-2d29-4e59-a045-07638744c6ab",
   "metadata": {},
   "outputs": [],
   "source": [
    "survey['Healthcare_binary'] = np.where(\n",
    "    survey.Healthcare.str.contains('Yes') ,\n",
    "    'Yes','No+unsure')"
   ]
  },
  {
   "cell_type": "code",
   "execution_count": null,
   "id": "bad6585c-770d-477b-ae43-4dda9096f355",
   "metadata": {},
   "outputs": [],
   "source": [
    "survey.sample(3)"
   ]
  },
  {
   "cell_type": "code",
   "execution_count": null,
   "id": "d35e0785-1566-47c9-94de-a5ea2007639a",
   "metadata": {},
   "outputs": [],
   "source": [
    "sns.set_context(context='talk', font_scale=1, rc=None)"
   ]
  },
  {
   "cell_type": "code",
   "execution_count": null,
   "id": "6efeb923-4ca9-48cd-926b-4104a3848cd7",
   "metadata": {},
   "outputs": [],
   "source": [
    "sns.set_palette('viridis')"
   ]
  },
  {
   "cell_type": "markdown",
   "id": "ceb73a3a-934f-46f5-862a-e579809d32c8",
   "metadata": {},
   "source": [
    "# Table1"
   ]
  },
  {
   "cell_type": "code",
   "execution_count": null,
   "id": "e92f0021-cab2-429c-9c11-2fbed8440369",
   "metadata": {},
   "outputs": [],
   "source": [
    "mytable = TableOne(survey, \n",
    "                   columns=[ 'Role', 'Used_before',  'Education_binary', 'Research_binary',\n",
    "       'Healthcare_binary'], \n",
    "                   categorical=[  'Used_before', 'Education_binary', 'Research_binary',\n",
    "       'Healthcare_binary'       ], \n",
    "                   nonnormal=[ ],\n",
    "                   groupby='Role', missing=False, pval=True,pval_test_name=True)\n",
    "mytable"
   ]
  },
  {
   "cell_type": "code",
   "execution_count": null,
   "id": "6ce6d252-a7b4-44f9-9b25-46b7b7b0c4fe",
   "metadata": {},
   "outputs": [],
   "source": [
    "fisher_exact([[5,13],[23,22]])[1] #med trainee vs faculty healthcare use"
   ]
  },
  {
   "cell_type": "code",
   "execution_count": null,
   "id": "7e274fe5-2bea-4f1b-b845-a2eae91ff112",
   "metadata": {},
   "outputs": [],
   "source": [
    "fisher_exact([[5+23,39],[25+37,20+28]])[1] #med+grad trainees vs faculty on education "
   ]
  },
  {
   "cell_type": "code",
   "execution_count": null,
   "id": "d1f7b680-5f1b-4a13-a2ee-5d62be85273a",
   "metadata": {},
   "outputs": [],
   "source": [
    "mytable = TableOne(survey, \n",
    "                   columns=['Role',  'Used_before',  'Education_binary', 'Research_binary',\n",
    "       'Healthcare_binary'], \n",
    "                   categorical=[ 'Role',  'Used_before', 'Education_binary', 'Research_binary',\n",
    "       'Healthcare_binary'       ], \n",
    "                   nonnormal=[ ],\n",
    "                   groupby='Used_before', missing=False, pval=True,pval_test_name=True)\n",
    "mytable"
   ]
  },
  {
   "cell_type": "code",
   "execution_count": null,
   "id": "fe4d96e1-c191-41a1-811f-885b0f1c591d",
   "metadata": {},
   "outputs": [],
   "source": [
    "mytable = TableOne(survey, \n",
    "                   columns=[ 'Role', 'Used_before', 'Interested', 'Education', 'Research',\n",
    "       'Healthcare'], \n",
    "                   categorical=[  'Used_before', 'Interested', 'Education', 'Research',\n",
    "       'Healthcare'       ], \n",
    "                   nonnormal=[ ],\n",
    "                   groupby='Role', missing=False, pval=True,pval_test_name=True)\n",
    "mytable"
   ]
  },
  {
   "cell_type": "code",
   "execution_count": null,
   "id": "89065d87-a926-4962-b869-914e6ab7d854",
   "metadata": {},
   "outputs": [],
   "source": [
    "mytable.to_csv(\"groupby_role.csv\")"
   ]
  },
  {
   "cell_type": "code",
   "execution_count": null,
   "id": "629fba26-716b-434d-9aa8-7efe25869b44",
   "metadata": {},
   "outputs": [],
   "source": [
    "mytable = TableOne(survey, \n",
    "                   columns=[ 'Role', 'Used_before', 'Interested', 'Education', 'Research',\n",
    "       'Healthcare'], \n",
    "                   categorical=[  'Role', 'Interested', 'Education', 'Research',\n",
    "       'Healthcare'       ], \n",
    "                   nonnormal=[ ],\n",
    "                   groupby='Used_before', missing=False, pval=True,pval_test_name=True)\n",
    "mytable"
   ]
  },
  {
   "cell_type": "code",
   "execution_count": null,
   "id": "4294ec6c-296e-46fc-af06-466a6b5a1307",
   "metadata": {},
   "outputs": [],
   "source": [
    "mytable.to_csv(\"groupby_used.csv\")"
   ]
  },
  {
   "cell_type": "markdown",
   "id": "75de614b-29d0-408c-8e0d-642fa49b88e3",
   "metadata": {},
   "source": [
    "# Visualization and stats"
   ]
  },
  {
   "cell_type": "code",
   "execution_count": null,
   "id": "bdecf7ce-bd7b-484b-b608-726e2e3a139a",
   "metadata": {},
   "outputs": [],
   "source": [
    "plt.figure(figsize=(8,6))\n",
    "sns.histplot(data=survey, y='Role', hue='Used_before', multiple=\"stack\")\n",
    "plt.show()"
   ]
  },
  {
   "cell_type": "code",
   "execution_count": null,
   "id": "cf401037-cf5d-4f6e-805b-df21bed6b593",
   "metadata": {},
   "outputs": [],
   "source": [
    "survey.groupby('Role').size().reset_index()"
   ]
  },
  {
   "cell_type": "code",
   "execution_count": null,
   "id": "6a673fad-3ceb-43e9-b0ee-eaf7eaa02fbd",
   "metadata": {},
   "outputs": [],
   "source": [
    "#flip to proportions\n",
    "used = survey.groupby(['Role','Used_before']).size().reset_index().pivot(columns='Used_before', index='Role', values=0).reset_index()\n",
    "used['percent_used'] = used['Yes']/(used['Yes']+used['No'])\n",
    "used['total']=1\n",
    "used"
   ]
  },
  {
   "cell_type": "code",
   "execution_count": null,
   "id": "6182e967-e1e0-4e1a-ab27-acded82894a1",
   "metadata": {},
   "outputs": [],
   "source": [
    "\n",
    "used['Role'] = pd.Categorical(used['Role'],\n",
    "                                   categories=['Medical Student, Resident, Fellow', 'Graduate Student, Postdoc Researcher', \n",
    "                                              'Clinical Faculty', 'Research Faculty',  'Administrative Staff', 'Other'],\n",
    "                                   ordered=True)"
   ]
  },
  {
   "cell_type": "code",
   "execution_count": null,
   "id": "57dbe473-561d-469b-9a4b-3970d7f2301e",
   "metadata": {},
   "outputs": [],
   "source": [
    "fig, ax = plt.subplots(figsize=(8, 4))\n",
    "\n",
    "sns.histplot(data=survey, x='Role', )\n",
    "\n",
    "# ax.legend_.set_bbox_to_anchor((1, 0.8))\n",
    "#twist axis\n",
    "ax.tick_params(axis='x', labelsize=12)\n",
    "trans = mpl.transforms.Affine2D().translate(6, 0)\n",
    "for t in ax.get_xticklabels():\n",
    "    t.set_rotation(30)\n",
    "    t.set_horizontalalignment(\"right\")\n",
    "    t.set_transform(t.get_transform() + trans)\n",
    "\n",
    "ax.set_ylabel(\"Respondents\", size=18)\n",
    "ax.set_xlabel(\"  \", size=16)\n",
    "fig.savefig('used_byrole.pdf')"
   ]
  },
  {
   "cell_type": "code",
   "execution_count": null,
   "id": "93d2aa34-d20d-4831-8144-2fb910e7a9e4",
   "metadata": {},
   "outputs": [],
   "source": [
    "fig, ax = plt.subplots(figsize=(8, 4))\n",
    "\n",
    "bar1 = sns.barplot(x=\"Role\",  y=\"total\", data=used, color='grey')\n",
    "bar2 = sns.barplot(x=\"Role\", y=\"percent_used\", data=used, color='tab:blue')\n",
    "#legend\n",
    "top_bar = mpatches.Patch(color='tab:blue', label='Have tried ChatGPT')\n",
    "bottom_bar = mpatches.Patch(color='grey', label='Have not tried')\n",
    "plt.legend(handles=[top_bar, bottom_bar])\n",
    "ax.legend_.set_bbox_to_anchor((1, 0.8))\n",
    "#twist axis\n",
    "ax.tick_params(axis='x', labelsize=12)\n",
    "trans = mpl.transforms.Affine2D().translate(6, 0)\n",
    "for t in ax.get_xticklabels():\n",
    "    t.set_rotation(30)\n",
    "    t.set_horizontalalignment(\"right\")\n",
    "    t.set_transform(t.get_transform() + trans)\n",
    "\n",
    "ax.set_ylabel(\"Proportion used\", size=18)\n",
    "ax.set_xlabel(\"Role \", size=16)\n",
    "fig.savefig('proportion_used_byrole.pdf')"
   ]
  },
  {
   "cell_type": "code",
   "execution_count": null,
   "id": "be90b890-befd-49a9-8a1f-d2460d37e0de",
   "metadata": {},
   "outputs": [],
   "source": [
    "survey.groupby(['Role','Used_before']).size().reset_index().pivot(columns='Used_before', index='Role', values=0).apply(lambda x: x/sum(x)*100, axis=1).reset_index()"
   ]
  },
  {
   "cell_type": "code",
   "execution_count": null,
   "id": "d358dd20-b97f-451a-ab10-2493bdf7b606",
   "metadata": {},
   "outputs": [],
   "source": [
    "used_role = survey.groupby(['Role','Used_before']).size().reset_index().pivot(columns='Used_before', index='Role', values=0).apply(lambda x: x/sum(x)*100, axis=1).reset_index()"
   ]
  },
  {
   "cell_type": "code",
   "execution_count": null,
   "id": "2e92a9d2-52b0-4fc0-9c98-62d0f0b1be5e",
   "metadata": {},
   "outputs": [],
   "source": [
    "pd.melt(used_role, id_vars=['Role'], value_vars=['No','Yes'],\n",
    "        var_name='Used before', value_name='Percent')"
   ]
  },
  {
   "cell_type": "code",
   "execution_count": null,
   "id": "e334d4c5-8835-43ce-a2bd-bd73b5f7d515",
   "metadata": {},
   "outputs": [],
   "source": [
    "used_role_melt = pd.melt(used_role, id_vars=['Role'], value_vars=['No','Yes'],\n",
    "        var_name='Used before', value_name='Percent')"
   ]
  },
  {
   "cell_type": "code",
   "execution_count": null,
   "id": "52741cc5-c674-495e-ac36-98dcde7db406",
   "metadata": {
    "tags": []
   },
   "outputs": [],
   "source": [
    "\n",
    "fig = px.bar(used_role_melt, y='Role', x='Percent', color='Used before',\n",
    "             color_discrete_sequence=px.colors.qualitative.Safe,\n",
    "             # text = [i + str(j)+' %' for i,j in zip(interest_melt.Used_before, interest_melt.percent)],\n",
    "             orientation='h',)\n",
    "fig.write_image('used_byrole_plotly.pdf')\n",
    "fig.show()"
   ]
  },
  {
   "cell_type": "markdown",
   "id": "ebe1b298-9371-4de1-8609-fa8a33adbcfb",
   "metadata": {},
   "source": [
    "It looks like students used more than faculty or staff, let's check this "
   ]
  },
  {
   "cell_type": "code",
   "execution_count": null,
   "id": "f3e3254c-1c17-477c-87ef-6c123f161b68",
   "metadata": {},
   "outputs": [],
   "source": [
    "stats_results = []\n",
    "for d1, d2 in itertools.combinations(used.Role.unique(), 2):\n",
    "        yes1 = used.Yes[used.Role==d1].values[0]\n",
    "        yes2 = used.Yes[used.Role==d2].values[0]\n",
    "        no1 = used.No[used.Role==d1].values[0]\n",
    "        no2 = used.No[used.Role==d2].values[0]\n",
    "\n",
    "        pval = fisher_exact([ [yes1, no1],\n",
    "                                        [yes2, no2]])[1]\n",
    "        stats_results.append([d1, d2, pval])\n",
    "        \n",
    "stats_results = pd.DataFrame(stats_results, columns=[\"group1\", \"group2\",\"pval\"])\n",
    "stats_results"
   ]
  },
  {
   "cell_type": "code",
   "execution_count": null,
   "id": "2e292116-4ec6-4c59-a63c-b889ebb79f44",
   "metadata": {},
   "outputs": [],
   "source": [
    "#meds+grads vs clin+res faculty\n",
    "fisher_exact(\n",
    "    [[30+9,23+5],\n",
    "     [14+32,31+33]])[1]"
   ]
  },
  {
   "cell_type": "code",
   "execution_count": null,
   "id": "fbf2f689-18a4-4f31-b5b6-e32e139af2a2",
   "metadata": {},
   "outputs": [],
   "source": [
    "plt.figure(figsize=(8,6))\n",
    "ax = sns.histplot(data=survey, y='Interested', hue='Role',multiple='stack')\n",
    "ax.legend_.set_bbox_to_anchor((1, 0.8))\n",
    "plt.show()"
   ]
  },
  {
   "cell_type": "code",
   "execution_count": null,
   "id": "7bc23b6c-b164-4bd6-8c64-0eece5e3f68e",
   "metadata": {},
   "outputs": [],
   "source": [
    "fig, ax = plt.subplots(figsize=(12, 6))\n",
    "fig = sns.histplot(data=survey, y='Role', x='Interested',cbar=True, )\n",
    "ax.set_ylabel(\"Role\", size=18)\n",
    "ax.set_xlabel(\"Interest in using ChatGPT \", size=20)\n",
    "\n",
    "plt.savefig('interested_byrole.pdf')"
   ]
  },
  {
   "cell_type": "code",
   "execution_count": null,
   "id": "2fb9b811-cce1-4fce-a864-6587c1be0a60",
   "metadata": {},
   "outputs": [],
   "source": [
    "fig, ax = plt.subplots(figsize=(12, 6))\n",
    "fig = sns.histplot(data=survey, y='Role', x='Healthcare',cbar=True, )\n",
    "ax.set_ylabel(\"Role\", size=18)\n",
    "ax.set_xlabel(\"Can ChatGPT be used in healthcare? \", size=16)\n",
    "#twist axis\n",
    "ax.tick_params(axis='x', labelsize=12)\n",
    "trans = mpl.transforms.Affine2D().translate(6, 0)\n",
    "for t in ax.get_xticklabels():\n",
    "    t.set_rotation(30)\n",
    "    t.set_horizontalalignment(\"right\")\n",
    "    t.set_transform(t.get_transform() + trans)\n",
    "plt.savefig('healthcare_byrole.pdf')"
   ]
  },
  {
   "cell_type": "code",
   "execution_count": null,
   "id": "014e5693-8172-4b94-b965-8457389b2be8",
   "metadata": {},
   "outputs": [],
   "source": [
    "fig, ax = plt.subplots(figsize=(12, 6))\n",
    "fig = sns.histplot(data=survey, y='Research', x='Healthcare',cbar=True, )\n",
    "# ax.set_ylabel(\"Role\", size=18)\n",
    "# ax.set_xlabel(\"Can ChatGPT be used in healthcare? \", size=16)\n",
    "#twist axis\n",
    "ax.tick_params(axis='x', labelsize=12)\n",
    "trans = mpl.transforms.Affine2D().translate(6, 0)\n",
    "for t in ax.get_xticklabels():\n",
    "    t.set_rotation(30)\n",
    "    t.set_horizontalalignment(\"right\")\n",
    "    t.set_transform(t.get_transform() + trans)\n",
    "plt.savefig('healthcare_research.pdf')"
   ]
  },
  {
   "cell_type": "code",
   "execution_count": null,
   "id": "afa6e33e-e02d-473b-bfad-69b9ba83e5c1",
   "metadata": {},
   "outputs": [],
   "source": [
    "#show specific values\n",
    "interested = survey.groupby(['Role','Interested']).size().reset_index().pivot(columns='Interested', index='Role', values=0).reset_index()\n",
    "interested"
   ]
  },
  {
   "cell_type": "code",
   "execution_count": null,
   "id": "f591ce7d-de05-47fe-bb45-02b5b8eefba2",
   "metadata": {},
   "outputs": [],
   "source": [
    "#calculate percents \n",
    "interested=interested.set_index('Role').fillna(0).apply(lambda x: x/sum(x)*100, axis=1).reset_index()\n",
    "interested"
   ]
  },
  {
   "cell_type": "code",
   "execution_count": null,
   "id": "7a585c75-be9b-4a8c-ab74-9eba1e1f57a8",
   "metadata": {},
   "outputs": [],
   "source": [
    "plt.figure(figsize=(6,6))\n",
    "ax = sns.histplot(data=survey, x='Used_before', hue='Interested',multiple='stack', )\n",
    "ax.legend_.set_bbox_to_anchor((1, 0.8))\n",
    "\n",
    "ax.set_xlabel(\"\")\n",
    "ax.set_xticklabels([\"Have tried ChatGPT\", \"Have not tried\"], size=16)\n",
    "plt.savefig('interested_byused.pdf')"
   ]
  },
  {
   "cell_type": "code",
   "execution_count": null,
   "id": "a725ed1a-cf18-44a2-afaa-1cc959183529",
   "metadata": {},
   "outputs": [],
   "source": [
    "plt.figure(figsize=(8,6))\n",
    "ax = sns.histplot(data=survey, x='Role', hue='Research',multiple='stack', )\n",
    "ax.legend_.set_bbox_to_anchor((1, 0.8))\n",
    "\n",
    "ax.set_xlabel(\"\")\n",
    "ax.tick_params(axis='x', labelsize=12)\n",
    "trans = mpl.transforms.Affine2D().translate(6, 0)\n",
    "for t in ax.get_xticklabels():\n",
    "    t.set_rotation(30)\n",
    "    t.set_horizontalalignment(\"right\")\n",
    "    t.set_transform(t.get_transform() + trans)\n",
    "# ax.set_xticklabels([\"Have tried ChatGPT\", \"Have not tried\"], size=16)\n",
    "# plt.savefig('interested_byused.pdf')"
   ]
  },
  {
   "cell_type": "code",
   "execution_count": null,
   "id": "e6f57fe1-0fb7-4511-b124-6c19ba5d04ec",
   "metadata": {},
   "outputs": [],
   "source": [
    "#show specific values\n",
    "interested = survey.groupby(['Used_before','Interested']).size().reset_index().pivot(columns='Interested', index='Used_before', values=0).reset_index()\n",
    "interested"
   ]
  },
  {
   "cell_type": "code",
   "execution_count": null,
   "id": "1086edfb-c3cd-4e14-a212-2e01b9f3267d",
   "metadata": {},
   "outputs": [],
   "source": [
    "interested=interested.set_index('Used_before').fillna(0).apply(lambda x: x/sum(x)*100, axis=1).reset_index()\n",
    "interested"
   ]
  },
  {
   "cell_type": "code",
   "execution_count": null,
   "id": "dd7970c2-fc1c-4f6c-9dec-2df050edc175",
   "metadata": {},
   "outputs": [],
   "source": [
    "interest_melt = pd.melt(interested, id_vars=['Used_before'], value_vars=['Not at all', 'Very little', 'Somewhat', 'To a great extent'],\n",
    "        var_name='Interest', value_name='Percent').rename(columns={'Used_before':'Used before'})\n",
    "        "
   ]
  },
  {
   "cell_type": "code",
   "execution_count": null,
   "id": "5338d3d5-ef14-479e-bf4f-4ddd59a5f5a4",
   "metadata": {
    "tags": []
   },
   "outputs": [],
   "source": [
    "\n",
    "fig = px.bar(interest_melt, y='Used before', x='Percent', color='Interest',\n",
    "             color_discrete_sequence=px.colors.qualitative.Safe,\n",
    "             # text = [i + str(j)+' %' for i,j in zip(interest_melt.Used_before, interest_melt.percent)],\n",
    "             orientation='h',)\n",
    "fig.write_image('interested_byused_plotly.pdf')\n",
    "fig.show()"
   ]
  },
  {
   "cell_type": "code",
   "execution_count": null,
   "id": "952a8dfa-ace9-4380-a284-41fdcd621025",
   "metadata": {},
   "outputs": [],
   "source": [
    "fisher_exact(\n",
    "    [[40,252-40],\n",
    "     [67,161]])[1]"
   ]
  },
  {
   "cell_type": "code",
   "execution_count": null,
   "id": "7b85ee79-a821-4ca1-8885-79682289c476",
   "metadata": {},
   "outputs": [],
   "source": [
    "survey.Used_before.value_counts()"
   ]
  },
  {
   "cell_type": "code",
   "execution_count": null,
   "id": "835ea921-d313-44c3-ba53-c0dee9487d65",
   "metadata": {},
   "outputs": [],
   "source": [
    "168/420"
   ]
  },
  {
   "cell_type": "code",
   "execution_count": null,
   "id": "1a7764fe-533c-42ed-a159-df92b8e3cab8",
   "metadata": {},
   "outputs": [],
   "source": [
    "fisher_exact(\n",
    "    [[  len(survey[(survey.Used_before=='Yes')&(survey.Education=='Yes, it should be actively incorporated')]) , len(survey[(survey.Used_before=='Yes')&(survey.Education=='No, it should be banned')])],\n",
    "     [    len(survey[(survey.Used_before=='No')&(survey.Education=='Yes, it should be actively incorporated')]) , len(survey[(survey.Used_before=='No')&(survey.Education=='No, it should be banned')]) ]])[1]"
   ]
  },
  {
   "cell_type": "code",
   "execution_count": null,
   "id": "e51216bb-60b0-4185-87ed-91d7a31bc596",
   "metadata": {},
   "outputs": [],
   "source": [
    "survey.groupby('Role')['Interested'].value_counts(normalize=True).mul(100).round(2).unstack().reset_index()"
   ]
  },
  {
   "cell_type": "code",
   "execution_count": null,
   "id": "cf9d9c15-286b-4976-a38c-be62003be409",
   "metadata": {},
   "outputs": [],
   "source": [
    "data = survey.groupby('Role')['Interested'].value_counts(normalize=True).round(2).unstack().reset_index()"
   ]
  },
  {
   "cell_type": "code",
   "execution_count": null,
   "id": "c3aa80f5-9394-4b8e-8bc0-78c38d9dd4bd",
   "metadata": {},
   "outputs": [],
   "source": [
    "plt.rcParams['figure.figsize'] = [8, 4]\n",
    "ax = survey.groupby('Role')['Interested'].value_counts(normalize=True).round(2).unstack().reset_index().plot(x='Role', kind='bar', stacked=True,)\n",
    "ax.legend(title='Interest in using ChatGPT')\n",
    "ax.legend_.set_bbox_to_anchor((1, 0.8))\n",
    "ax.set_ylabel(\"Response proportions\")\n",
    "#twist axis\n",
    "ax.tick_params(axis='x', labelsize=12)\n",
    "trans = mpl.transforms.Affine2D().translate(6, 0)\n",
    "for t in ax.get_xticklabels():\n",
    "    t.set_rotation(30)\n",
    "    t.set_horizontalalignment(\"right\")\n",
    "    t.set_transform(t.get_transform() + trans)\n",
    "plt.show()\n",
    "\n",
    "plt.savefig('interested_byrole.pdf')"
   ]
  },
  {
   "cell_type": "code",
   "execution_count": null,
   "id": "5252164a-503d-45f4-8014-924f4e0f7a6a",
   "metadata": {
    "tags": []
   },
   "outputs": [],
   "source": [
    "plt.rcParams['figure.figsize'] = [8, 4]\n",
    "ax = survey.groupby('Role')['Used_before'].value_counts(normalize=True).round(2).unstack().reset_index().plot(x='Role', kind='bar', stacked=True, color=['grey','teal'])\n",
    "ax.legend(title='Used before')\n",
    "ax.legend_.set_bbox_to_anchor((1, 0.8))\n",
    "ax.set_ylabel(\"Response proportions\")\n",
    "#twist axis\n",
    "ax.tick_params(axis='x', labelsize=12)\n",
    "trans = mpl.transforms.Affine2D().translate(6, 0)\n",
    "for t in ax.get_xticklabels():\n",
    "    t.set_rotation(30)\n",
    "    t.set_horizontalalignment(\"right\")\n",
    "    t.set_transform(t.get_transform() + trans)\n",
    "plt.show()\n",
    "\n",
    "plt.savefig('used_byrole.pdf')"
   ]
  },
  {
   "cell_type": "code",
   "execution_count": null,
   "id": "803a2ac8-6c68-4c51-abc3-fdf5687c9e08",
   "metadata": {},
   "outputs": [],
   "source": []
  },
  {
   "cell_type": "code",
   "execution_count": null,
   "id": "597ae3d3-8888-4cda-8771-6047d90989f4",
   "metadata": {},
   "outputs": [],
   "source": [
    "questions = ['Used_before','Interested', 'Research', 'Education', 'Healthcare']"
   ]
  },
  {
   "cell_type": "code",
   "execution_count": null,
   "id": "10e7c162-6a7a-4493-8976-0a814c52aa8e",
   "metadata": {},
   "outputs": [],
   "source": [
    "for x in questions:\n",
    "    plt.rcParams['figure.figsize'] = [8, 4]\n",
    "    ax = survey.groupby('Role')[x].value_counts(normalize=True).round(2).unstack().reset_index().plot(x='Role', kind='bar', stacked=True,)\n",
    "    \n",
    "    # Reverse the order of handles and labels in the legend\n",
    "    handles, labels = ax.get_legend_handles_labels()\n",
    "    ax.legend(reversed(handles), reversed(labels), loc='lower center',bbox_to_anchor=(.5, 1.0),title=f'{x} and ChatGPT')\n",
    "\n",
    "    ax.set_ylabel(\"Response proportions\")\n",
    "    #twist axis\n",
    "    ax.tick_params(axis='x', labelsize=12)\n",
    "    trans = mpl.transforms.Affine2D().translate(6, 0)\n",
    "    for t in ax.get_xticklabels():\n",
    "        t.set_rotation(30)\n",
    "        t.set_horizontalalignment(\"right\")\n",
    "        t.set_transform(t.get_transform() + trans)\n",
    "    plt.show()\n",
    "\n",
    "    plt.savefig(f'{x}_byrole.pdf')"
   ]
  },
  {
   "cell_type": "code",
   "execution_count": null,
   "id": "1a7d72f5-a394-422c-af12-9fa9b826d286",
   "metadata": {},
   "outputs": [],
   "source": [
    "for x in questions:\n",
    "    data=survey.groupby('Used_before')[x].value_counts(normalize=True).round(2).unstack().reset_index()\n",
    "    plt.rcParams['figure.figsize'] = [6, 4]\n",
    "    ax = data.plot(x='Used_before', kind='bar', stacked=True,rot=0)\n",
    "    \n",
    "    # Reverse the order of handles and labels in the legend\n",
    "    handles, labels = ax.get_legend_handles_labels()\n",
    "    ax.legend(reversed(handles), reversed(labels), title=f'{x} and ChatGPT')\n",
    "    ax.legend_.set_bbox_to_anchor((1, 0.8))\n",
    "    \n",
    "    ax.set_ylabel(\"Response proportions\")\n",
    "    ax.set_xlabel(\" \")\n",
    "    ax.set_xticklabels([\"Have not tried\", \"Have tried ChatGPT\"], size=16)\n",
    "    #twist axis\n",
    "    # ax.tick_params(axis='x', labelsize=12)\n",
    "    # trans = mpl.transforms.Affine2D().translate(6, 0)\n",
    "    # for t in ax.get_xticklabels():\n",
    "    #     t.set_rotation(10)\n",
    "    #     t.set_horizontalalignment(\"right\")\n",
    "    #     t.set_transform(t.get_transform() + trans)\n",
    "\n",
    "    plt.savefig(f'{x}_by_used.pdf')"
   ]
  },
  {
   "cell_type": "code",
   "execution_count": null,
   "id": "607637d7-4f7a-460b-9d87-832ff701a036",
   "metadata": {},
   "outputs": [],
   "source": [
    "len(survey[(survey.Used_before=='Yes')&(survey.Interested=='To a great extent')])"
   ]
  },
  {
   "cell_type": "code",
   "execution_count": null,
   "id": "4f55fbe3-2370-406d-a73b-f6633ae0f4c5",
   "metadata": {},
   "outputs": [],
   "source": [
    "fisher_exact( \n",
    "    [ [  len(survey[(survey.Used_before=='Yes')&(survey.Interested=='To a great extent')]) , len(survey[(survey.Used_before=='Yes')&(survey.Interested!='To a great extent')])], \n",
    "     [len(survey[(survey.Used_before=='No')&(survey.Interested=='To a great extent')]) , len(survey[(survey.Used_before=='No')&(survey.Interested!='To a great extent')])] ])[1]"
   ]
  },
  {
   "cell_type": "code",
   "execution_count": null,
   "id": "0d58a1d4-ad13-4433-ade2-490fad6cbf1a",
   "metadata": {},
   "outputs": [],
   "source": [
    "question1 = 'Research'\n",
    "question2 = 'Education'\n",
    "\n",
    "fisher_exact( \n",
    "    [ [  len(survey[(survey[question]==\"I don't know, it is too early to make a statement\")]) , len(survey[(survey[question]!=\"I don't know, it is too early to make a statement\")])], \n",
    "     [len(survey[(survey[question2]==\"I don't know, it is too early to make a statement\")]) , len(survey[(survey[question2]!=\"I don't know, it is too early to make a statement\")])] ])[1]\n"
   ]
  },
  {
   "cell_type": "code",
   "execution_count": null,
   "id": "1241e583-4195-4725-bbc0-3b5decb40e65",
   "metadata": {},
   "outputs": [],
   "source": [
    "question1 = 'Research'\n",
    "question2 = 'Healthcare'\n",
    "\n",
    "fisher_exact( \n",
    "    [ [  len(survey[(survey[question]==\"I don't know, it is too early to make a statement\")]) , len(survey[(survey[question]!=\"I don't know, it is too early to make a statement\")])], \n",
    "     [len(survey[(survey[question2]==\"I don't know, it is too early to make a statement\")]) , len(survey[(survey[question2]!=\"I don't know, it is too early to make a statement\")])] ])[1]\n"
   ]
  },
  {
   "cell_type": "code",
   "execution_count": null,
   "id": "97a49125-0281-4c89-afd5-4adf6c27c107",
   "metadata": {},
   "outputs": [],
   "source": [
    "survey.Research.value_counts()"
   ]
  },
  {
   "cell_type": "code",
   "execution_count": null,
   "id": "977435b1-cd4d-4d5d-9c78-7d884a04c489",
   "metadata": {},
   "outputs": [],
   "source": [
    "len(survey[(survey[question]==\"I don't know, it is too early to make a statement\")])"
   ]
  },
  {
   "cell_type": "code",
   "execution_count": null,
   "id": "6396eaa8-aeee-4a40-beff-371e77ab7b9c",
   "metadata": {},
   "outputs": [],
   "source": []
  },
  {
   "cell_type": "code",
   "execution_count": null,
   "id": "a5fb2033-6c86-4b6c-b473-629493a548ff",
   "metadata": {},
   "outputs": [],
   "source": [
    "#simplify responses for fishers exact testing\n"
   ]
  },
  {
   "cell_type": "code",
   "execution_count": null,
   "id": "7f4d56e7-16bf-486a-bfbc-fc1f9a2a033d",
   "metadata": {},
   "outputs": [],
   "source": [
    "survey.Healthcare.value_counts()"
   ]
  },
  {
   "cell_type": "code",
   "execution_count": null,
   "id": "d30e20b1-0663-4a93-86a7-b33fd62ad178",
   "metadata": {},
   "outputs": [],
   "source": [
    "survey['Education_binary'] = np.where(survey.Education=='Yes, it should be actively incorporated','Yes','No+unsure')"
   ]
  },
  {
   "cell_type": "code",
   "execution_count": null,
   "id": "bcef3ea3-5ed6-48bc-ba85-d071143674b1",
   "metadata": {},
   "outputs": [],
   "source": [
    "survey['Research_binary'] = np.where(\n",
    "    survey.Research.str.contains('Yes') ,\n",
    "    'Yes','No+unsure')"
   ]
  },
  {
   "cell_type": "code",
   "execution_count": null,
   "id": "af54093f-34b9-4208-8e07-81a220019dd8",
   "metadata": {},
   "outputs": [],
   "source": [
    "survey['Healthcare_binary'] = np.where(\n",
    "    survey.Healthcare.str.contains('Yes') ,\n",
    "    'Yes','No+unsure')"
   ]
  },
  {
   "cell_type": "code",
   "execution_count": null,
   "id": "7e083537-c159-4cdb-a27e-7518e9f388e6",
   "metadata": {},
   "outputs": [],
   "source": [
    "survey.sample(3)"
   ]
  },
  {
   "cell_type": "code",
   "execution_count": null,
   "id": "129bedbd-5cdc-47c7-8531-be5062d0d5b2",
   "metadata": {},
   "outputs": [],
   "source": [
    "survey.groupby('Used_before')['Research_binary'].value_counts()"
   ]
  },
  {
   "cell_type": "code",
   "execution_count": null,
   "id": "2137d28f-eb1f-4ad5-97ce-e8b5ff2e109e",
   "metadata": {},
   "outputs": [],
   "source": [
    "survey.groupby('Used_before')['Research_binary'].value_counts(normalize=True)"
   ]
  },
  {
   "cell_type": "code",
   "execution_count": null,
   "id": "f0499ef9-5fe5-4762-8b38-ce3e3dbdb2b1",
   "metadata": {},
   "outputs": [],
   "source": [
    "fisher_exact([[189,63],[150,18]])[1]"
   ]
  },
  {
   "cell_type": "code",
   "execution_count": null,
   "id": "40e2bc14-5ea7-4211-8229-81042194c5de",
   "metadata": {},
   "outputs": [],
   "source": [
    "89.3-75"
   ]
  },
  {
   "cell_type": "code",
   "execution_count": null,
   "id": "e90e42e1-c8a0-4a6f-9874-97ab94fc3cb0",
   "metadata": {},
   "outputs": [],
   "source": [
    "survey.groupby('Used_before')['Healthcare_binary'].value_counts()"
   ]
  },
  {
   "cell_type": "code",
   "execution_count": null,
   "id": "b75bc7d8-9c8f-4075-9470-77e15b681dfb",
   "metadata": {},
   "outputs": [],
   "source": [
    "survey.groupby('Used_before')['Healthcare_binary'].value_counts(normalize=True)"
   ]
  },
  {
   "cell_type": "code",
   "execution_count": null,
   "id": "77d3d90d-a5fc-4473-adc8-e86307189f64",
   "metadata": {},
   "outputs": [],
   "source": [
    "fisher_exact([[123,129],[105,63]])[1]"
   ]
  },
  {
   "cell_type": "code",
   "execution_count": null,
   "id": "55eac321-7b48-414b-97f7-84f8891af94c",
   "metadata": {},
   "outputs": [],
   "source": [
    "62.5-48.8"
   ]
  },
  {
   "cell_type": "code",
   "execution_count": null,
   "id": "507e3ac5-5a71-46f6-9cad-015f3f456d94",
   "metadata": {},
   "outputs": [],
   "source": [
    "survey.groupby('Used_before')['Education_binary'].value_counts()"
   ]
  },
  {
   "cell_type": "code",
   "execution_count": null,
   "id": "72f9ea63-db51-4e8e-a9d0-792e08ebd389",
   "metadata": {},
   "outputs": [],
   "source": [
    "survey.groupby('Used_before')['Education_binary'].value_counts(normalize=True)"
   ]
  },
  {
   "cell_type": "code",
   "execution_count": null,
   "id": "55648af1-2161-4216-b630-a09271c29dbd",
   "metadata": {},
   "outputs": [],
   "source": [
    "fisher_exact([[107,61],[76,176]])[1]"
   ]
  },
  {
   "cell_type": "code",
   "execution_count": null,
   "id": "9544919a-6fed-4adc-9b25-7d737853f104",
   "metadata": {},
   "outputs": [],
   "source": [
    "63.9-30.2"
   ]
  },
  {
   "cell_type": "code",
   "execution_count": null,
   "id": "529b5d16-d9dc-45e2-aece-0fcf626f4514",
   "metadata": {},
   "outputs": [],
   "source": [
    "for x in questions:\n",
    "    data=survey.groupby('Used_before')[x].value_counts(normalize=True).round(2).unstack().reset_index()\n",
    "    plt.rcParams['figure.figsize'] = [6, 4]\n",
    "    ax = data.plot(x='Used_before', kind='bar', stacked=True,rot=0)\n",
    "    \n",
    "    # Reverse the order of handles and labels in the legend\n",
    "    handles, labels = ax.get_legend_handles_labels()\n",
    "    ax.legend(reversed(handles), reversed(labels), title=f'{x} and ChatGPT')\n",
    "    ax.legend_.set_bbox_to_anchor((1, 0.8))\n",
    "    \n",
    "    ax.set_ylabel(\"Response proportions\")\n",
    "    ax.set_xlabel(\" \")\n",
    "    ax.set_xticklabels([\"Have not tried\", \"Have tried ChatGPT\"], size=16)\n",
    "    #twist axis\n",
    "    # ax.tick_params(axis='x', labelsize=12)\n",
    "    # trans = mpl.transforms.Affine2D().translate(6, 0)\n",
    "    # for t in ax.get_xticklabels():\n",
    "    #     t.set_rotation(10)\n",
    "    #     t.set_horizontalalignment(\"right\")\n",
    "    #     t.set_transform(t.get_transform() + trans)\n",
    "\n",
    "    plt.savefig(f'{x}_by_used.pdf')"
   ]
  },
  {
   "cell_type": "code",
   "execution_count": null,
   "id": "21273f21-26b2-430e-be86-e0a360587169",
   "metadata": {},
   "outputs": [],
   "source": [
    "g = sns.FacetGrid(survey, col=\"Used_before\")\n",
    "g.map(sns.histplot, \"Education_binary\", )"
   ]
  },
  {
   "cell_type": "code",
   "execution_count": null,
   "id": "17db1021-23f6-43f9-bf52-c7a42dfd7def",
   "metadata": {},
   "outputs": [],
   "source": []
  },
  {
   "cell_type": "code",
   "execution_count": null,
   "id": "67341780-683d-492a-bc0a-1c45686dad94",
   "metadata": {},
   "outputs": [],
   "source": [
    "pd.melt(survey, id_vars=['Used_before'], value_vars=['Education_binary', 'Research_binary', 'Healthcare_binary'])"
   ]
  },
  {
   "cell_type": "code",
   "execution_count": null,
   "id": "757806a0-a3e5-4586-a6d9-5d32a6d5f262",
   "metadata": {},
   "outputs": [],
   "source": [
    "binary_melt = pd.melt(survey, id_vars=['Used_before'], value_vars=['Education_binary', 'Research_binary', 'Healthcare_binary'])"
   ]
  },
  {
   "cell_type": "code",
   "execution_count": null,
   "id": "0d28bcfd-9c1d-4a7d-b40e-d7bad32fec9c",
   "metadata": {},
   "outputs": [],
   "source": [
    "sns.histplot(data=binary_melt, x='variable', y='value')"
   ]
  },
  {
   "cell_type": "code",
   "execution_count": null,
   "id": "dcb455bc-b0b2-46f9-95fa-784e5f669102",
   "metadata": {},
   "outputs": [],
   "source": [
    "survey.groupby(['Used_before'])['Education_binary', 'Research_binary', 'Healthcare_binary'].value_counts()"
   ]
  },
  {
   "cell_type": "code",
   "execution_count": null,
   "id": "e2a09d66-6d74-45de-99f6-e11fa141af7b",
   "metadata": {},
   "outputs": [],
   "source": [
    "questions_binary = ['Used_before','Education_binary', 'Research_binary', 'Healthcare_binary']"
   ]
  },
  {
   "cell_type": "code",
   "execution_count": null,
   "id": "e7e72d81-a63d-4280-a682-e603c92e58cd",
   "metadata": {},
   "outputs": [],
   "source": [
    "for x in questions_binary:\n",
    "    data=survey.groupby('Used_before')[x].value_counts(normalize=True).round(2).unstack().reset_index()\n",
    "    plt.rcParams['figure.figsize'] = [6, 4]\n",
    "    ax = data.plot(x='Used_before', kind='bar', stacked=True,rot=0)\n",
    "    \n",
    "    # Reverse the order of handles and labels in the legend\n",
    "    handles, labels = ax.get_legend_handles_labels()\n",
    "    ax.legend(reversed(handles), reversed(labels), loc='lower center',bbox_to_anchor=(0.5, 1.05),title=f'{x} and ChatGPT')\n",
    "    \n",
    "    ax.set_ylabel(\"Response proportions\")\n",
    "    ax.set_xlabel(\" \")\n",
    "    ax.set_xticklabels([\"Have not tried\", \"Have tried ChatGPT\"], size=16)\n",
    "    #twist axis\n",
    "    # ax.tick_params(axis='x', labelsize=12)\n",
    "    # trans = mpl.transforms.Affine2D().translate(6, 0)\n",
    "    # for t in ax.get_xticklabels():\n",
    "    #     t.set_rotation(10)\n",
    "    #     t.set_horizontalalignment(\"right\")\n",
    "    #     t.set_transform(t.get_transform() + trans)\n",
    "\n",
    "    plt.savefig(f'{x}_by_used_binary.pdf')"
   ]
  },
  {
   "cell_type": "code",
   "execution_count": null,
   "id": "ffedbd4c-d721-4981-958d-3e1342d9ba73",
   "metadata": {},
   "outputs": [],
   "source": [
    "for x in questions_binary:\n",
    "    data=survey.groupby('Role')[x].value_counts(normalize=True).round(2).unstack().reset_index()\n",
    "    plt.rcParams['figure.figsize'] = [6, 4]\n",
    "    ax = data.plot(x='Role', kind='bar', stacked=True,rot=0)\n",
    "    \n",
    "    # Reverse the order of handles and labels in the legend\n",
    "    handles, labels = ax.get_legend_handles_labels()\n",
    "    ax.legend(reversed(handles), reversed(labels), loc='lower center',bbox_to_anchor=(0.5, 1.05),title=f'{x} and ChatGPT')\n",
    "    \n",
    "    ax.set_ylabel(\"Response proportions\")\n",
    "    ax.set_xlabel(\" \")\n",
    "    # ax.set_xticklabels([\"Have not tried\", \"Have tried ChatGPT\"], size=16)\n",
    "    #twist axis\n",
    "    ax.tick_params(axis='x', labelsize=12)\n",
    "    trans = mpl.transforms.Affine2D().translate(6, 0)\n",
    "    for t in ax.get_xticklabels():\n",
    "        t.set_rotation(10)\n",
    "        t.set_horizontalalignment(\"right\")\n",
    "        t.set_transform(t.get_transform() + trans)\n",
    "\n",
    "    plt.savefig(f'{x}_by_role_binary.pdf')"
   ]
  },
  {
   "cell_type": "code",
   "execution_count": null,
   "id": "dcbda5cd-f08c-48c0-8115-304fd1b1d14e",
   "metadata": {},
   "outputs": [],
   "source": [
    "survey.to_csv(\"survey-cleaned3-12-23.csv\")"
   ]
  },
  {
   "cell_type": "code",
   "execution_count": null,
   "id": "c9125544-40f7-43c8-ad3e-a196c06f6955",
   "metadata": {},
   "outputs": [],
   "source": []
  },
  {
   "cell_type": "code",
   "execution_count": null,
   "id": "59139da8-8c8a-4a64-904d-6e97f5fd8f5c",
   "metadata": {},
   "outputs": [],
   "source": [
    "#numerical plotting David idea"
   ]
  },
  {
   "cell_type": "code",
   "execution_count": null,
   "id": "df10e8b7-f1d1-4721-863b-9765e15ce0a6",
   "metadata": {},
   "outputs": [],
   "source": [
    "survey.Interested.value_counts()"
   ]
  },
  {
   "cell_type": "code",
   "execution_count": null,
   "id": "c270d45d-2f90-460d-8079-84759eb93929",
   "metadata": {},
   "outputs": [],
   "source": [
    "# create a dictionary to map text to numbers\n",
    "interested_dictionary = {'Not at all': 0, 'Very little': 1, 'Somewhat': 2, 'To a great extent':3}\n",
    "\n",
    "# use the replace method to replace text with numbers and store the results in a new column\n",
    "survey['interested_numerical'] = survey['Interested'].replace(interested_dictionary)"
   ]
  },
  {
   "cell_type": "code",
   "execution_count": null,
   "id": "b1756aff-3bbd-41f1-b91e-43bb01914c3e",
   "metadata": {},
   "outputs": [],
   "source": [
    "survey['interested_numerical']=survey['interested_numerical'].astype(int)"
   ]
  },
  {
   "cell_type": "code",
   "execution_count": null,
   "id": "5df42108-f475-45c9-8693-97e8f46c295c",
   "metadata": {},
   "outputs": [],
   "source": [
    "fig, ax = plt.subplots(figsize=(14,8))\n",
    "\n",
    "data = survey\n",
    "x = 'Role'\n",
    "y = 'interested_numerical'\n",
    "# color='asper_growth_flag'\n",
    "\n",
    "stats_results = []\n",
    "\n",
    "for d1, d2 in itertools.combinations(data[x].unique(), 2):\n",
    "        days1 = data[y][data[x]==d1].dropna()\n",
    "        days2 = data[y][data[x]==d2].dropna()\n",
    "        if days1.size == 0 or days2.size == 0:\n",
    "            continue\n",
    "        pval = scipy.stats.mannwhitneyu(days1, days2).pvalue\n",
    "        stats_results.append([d1, d2, days1.size, days2.size, pval])\n",
    "\n",
    "stats_results = pd.DataFrame(stats_results, columns=[\"group1\", \"group2\",\n",
    "                                                   \"group1_size\", \"group2_size\", \"pval\"])\n",
    "stats_results[\"pval_adj\"] = statsmodels.stats.multitest.fdrcorrection(stats_results.pval, alpha=0.05)[1]\n",
    "stat_results_sign = stats_results.loc[stats_results.pval_adj < 0.05, :]\n",
    "pairs = []\n",
    "for _, r in stat_results_sign.iterrows():\n",
    "        pairs.append((r.group1, r.group2))\n",
    "\n",
    "\n",
    "sns.swarmplot(data=data, x=x, y=y, )\n",
    "\n",
    "#twist axis\n",
    "ax.tick_params(axis='x', labelsize=12)\n",
    "trans = mpl.transforms.Affine2D().translate(6, 0)\n",
    "for t in ax.get_xticklabels():\n",
    "    t.set_rotation(10)\n",
    "    t.set_horizontalalignment(\"right\")\n",
    "    t.set_transform(t.get_transform() + trans)\n",
    "\n",
    "annotator = statannotations.Annotator.Annotator(\n",
    "    ax, \n",
    "    pairs, \n",
    "    data=data, \n",
    "    x=x,\n",
    "    y=y, \n",
    "    verbose=False\n",
    ")\n",
    "annotator._verbose = False\n",
    "annotator.configure(line_width=1)\n",
    "annotator.set_custom_annotations([f\"p={x:.2e}\" for x in stat_results_sign.pval_adj])\n",
    "annotator.annotate();"
   ]
  },
  {
   "cell_type": "code",
   "execution_count": null,
   "id": "83e91075-aaa7-4358-b810-6465331d87d5",
   "metadata": {},
   "outputs": [],
   "source": []
  },
  {
   "cell_type": "code",
   "execution_count": null,
   "id": "604f0652-984c-49bb-894b-34902bd62065",
   "metadata": {},
   "outputs": [],
   "source": [
    "interest_scale = \\\n",
    "    ['Not at all',\n",
    "     'Very little',\n",
    "     'Somewhat',\n",
    "     'To a great extent']"
   ]
  },
  {
   "cell_type": "code",
   "execution_count": null,
   "id": "abec8252-0f67-48fc-87f0-65c2dc1081a5",
   "metadata": {},
   "outputs": [],
   "source": [
    "plot_likert.plot_likert(survey.Interested, interest_scale,\n",
    "                        plot_percentage=True,bar_labels=True, \n",
    "                        colors=plot_likert.colors.default_with_darker_neutral,\n",
    "                        figsize=(10,5))\n",
    "     "
   ]
  },
  {
   "cell_type": "code",
   "execution_count": null,
   "id": "d40d1dda-2502-49de-a4eb-d766fc2eb8bb",
   "metadata": {},
   "outputs": [],
   "source": [
    "interested = survey.groupby(['Used_before','Interested']).size().reset_index().pivot(columns='Interested', index='Used_before', values=0).reset_index()"
   ]
  },
  {
   "cell_type": "code",
   "execution_count": null,
   "id": "911fe331-adbf-475d-b841-cfe992912802",
   "metadata": {},
   "outputs": [],
   "source": [
    "interested=interested.set_index('Used_before').fillna(0).apply(lambda x: x/sum(x)*100, axis=1)"
   ]
  },
  {
   "cell_type": "code",
   "execution_count": null,
   "id": "910f383f-b08f-4c3f-8977-8a7e465be71d",
   "metadata": {},
   "outputs": [],
   "source": [
    "interested=interested[['Not at all',\n",
    "     'Very little',\n",
    "     'Somewhat',\n",
    "     'To a great extent']]"
   ]
  },
  {
   "cell_type": "code",
   "execution_count": null,
   "id": "3bee85f5-4280-430c-99e2-9858f3d0b88a",
   "metadata": {},
   "outputs": [],
   "source": [
    "interested=interested.reindex(['No', 'Yes'])"
   ]
  },
  {
   "cell_type": "code",
   "execution_count": null,
   "id": "9f34fba0-c30e-41b6-a71e-544e10b6588c",
   "metadata": {},
   "outputs": [],
   "source": [
    "ax = plot_likert.plot_counts(interested, interest_scale,\n",
    "                        plot_percentage=True,#bar_labels=True, \n",
    "                        colors=plot_likert.colors.default_with_darker_neutral,\n",
    "                        figsize=(8,4))\n",
    "  \n",
    "ax.legend(fontsize=14) \n",
    "ax.legend(bbox_to_anchor=(1, .8),title=f'Interest in using ChatGPT', title_fontsize=16,fontsize=14)\n",
    "ax.set_xticklabels(ax.get_xticklabels(), fontsize=12)\n",
    "ax.set_yticklabels(ax.get_yticklabels(), fontsize=12)\n",
    "ax.set_ylabel(\"Used ChatGPT before\", size=16)"
   ]
  },
  {
   "cell_type": "code",
   "execution_count": null,
   "id": "5b8ac537-cea2-4013-9c32-da1d3ef6a3a7",
   "metadata": {},
   "outputs": [],
   "source": [
    "ax.get_figure().savefig('interested_byused.pdf')"
   ]
  },
  {
   "cell_type": "code",
   "execution_count": null,
   "id": "2ae5eb07-942c-43d8-a32c-6f07b5af236d",
   "metadata": {},
   "outputs": [],
   "source": [
    "interested = survey.groupby(['Role','Interested']).size().reset_index().pivot(columns='Interested', index='Role', values=0).reset_index()"
   ]
  },
  {
   "cell_type": "code",
   "execution_count": null,
   "id": "8e8af30c-faa8-43c0-8e63-96e06a863e3c",
   "metadata": {},
   "outputs": [],
   "source": [
    "interested=interested.set_index('Role').fillna(0).apply(lambda x: x/sum(x)*100, axis=1)"
   ]
  },
  {
   "cell_type": "code",
   "execution_count": null,
   "id": "3f60a730-76a9-44d0-9232-77268fc15c6c",
   "metadata": {},
   "outputs": [],
   "source": [
    "interested=interested[['Not at all',\n",
    "     'Very little',\n",
    "     'Somewhat',\n",
    "     'To a great extent']]"
   ]
  },
  {
   "cell_type": "code",
   "execution_count": null,
   "id": "330bd406-3357-45f7-9041-a38b91a9602d",
   "metadata": {},
   "outputs": [],
   "source": [
    "interested=interested.reindex(['Medical Student, Resident, Fellow', 'Graduate Student, Postdoc Researcher', \n",
    "                                               'Clinical Faculty', 'Research Faculty', 'Administrative Staff', 'Other'])"
   ]
  },
  {
   "cell_type": "code",
   "execution_count": null,
   "id": "fb871627-2b3d-4702-8658-4e18b609c1c6",
   "metadata": {},
   "outputs": [],
   "source": [
    "ax = plot_likert.plot_counts(interested, interest_scale,\n",
    "                        plot_percentage=True,#bar_labels=True, \n",
    "                        colors=plot_likert.colors.default_with_darker_neutral,\n",
    "                        figsize=(8,4))\n",
    "  \n",
    "ax.legend(fontsize=14) \n",
    "ax.legend(bbox_to_anchor=(1, .8),title=f'Interest in using ChatGPT', title_fontsize=16,fontsize=14)\n",
    "ax.set_xticklabels(ax.get_xticklabels(), fontsize=12)\n",
    "ax.set_yticklabels(ax.get_yticklabels(), fontsize=14)\n",
    "ax.set_ylabel(\"Role\", size=16)"
   ]
  },
  {
   "cell_type": "code",
   "execution_count": null,
   "id": "e639b5be-ab5f-4470-858c-9633272ac207",
   "metadata": {},
   "outputs": [],
   "source": [
    "ax.get_figure().savefig('interested_byrole.pdf')"
   ]
  },
  {
   "cell_type": "code",
   "execution_count": null,
   "id": "266af3bd-3d22-420a-bf5b-d5d695d5d9a1",
   "metadata": {},
   "outputs": [],
   "source": [
    "healthcare = survey.groupby('Role')['Healthcare'].value_counts(normalize=True).round(2).unstack().fillna(0)*100"
   ]
  },
  {
   "cell_type": "code",
   "execution_count": null,
   "id": "eb317658-94f1-4793-a8df-ee04e2ed01a4",
   "metadata": {},
   "outputs": [],
   "source": [
    "healthcare = healthcare[['No, it should not be used at all', \n",
    "                                               \"I don't know, it is too early to make a statement\", \n",
    "                                               'Yes, it can be used for administrative purposes',\n",
    "                                               \"Yes, it can be used for any purpose\",]] "
   ]
  },
  {
   "cell_type": "code",
   "execution_count": null,
   "id": "87778b3d-e2f1-4d3e-91e3-ad0c0eb8022c",
   "metadata": {},
   "outputs": [],
   "source": [
    "healthcare_scale = \\\n",
    "    ['No, it should not be used at all', \n",
    "                                               \"I don't know, it is too early to make a statement\", \n",
    "                                               'Yes, it can be used for administrative purposes',\n",
    "                                               \"Yes, it can be used for any purpose\",]"
   ]
  },
  {
   "cell_type": "code",
   "execution_count": null,
   "id": "4a40672e-450f-4bfa-9314-993325e951c3",
   "metadata": {},
   "outputs": [],
   "source": [
    "healthcare=healthcare.reindex(['Medical Student, Resident, Fellow', 'Graduate Student, Postdoc Researcher', \n",
    "                                               'Clinical Faculty', 'Research Faculty', 'Administrative Staff', 'Other'])"
   ]
  },
  {
   "cell_type": "code",
   "execution_count": null,
   "id": "b95044aa-d3d9-4e1f-8516-ac20c5cb8a49",
   "metadata": {},
   "outputs": [],
   "source": [
    "ax = plot_likert.plot_counts(healthcare, healthcare_scale,\n",
    "                        plot_percentage=True,#bar_labels=True, \n",
    "                        colors=[\n",
    "    plot_likert.colors.TRANSPARENT,\n",
    "    \"firebrick\",\n",
    "    \"silver\",\n",
    "    \"cornflowerblue\",\n",
    "    \"darkblue\",\n",
    "],\n",
    "                        figsize=(10,5))\n",
    "\n",
    "ax.legend(fontsize=14) \n",
    "ax.legend(bbox_to_anchor=(0.2, 1),title=f'Healthcare and ChatGPT', title_fontsize=16,fontsize=14)\n",
    "ax.set_xticklabels(ax.get_xticklabels(), fontsize=12)\n",
    "ax.set_yticklabels(ax.get_yticklabels(), fontsize=14)     "
   ]
  },
  {
   "cell_type": "code",
   "execution_count": null,
   "id": "85cfa564-2705-473d-8248-692e572054f1",
   "metadata": {},
   "outputs": [],
   "source": [
    "ax.get_figure().savefig('healthcare_byrole.pdf')"
   ]
  },
  {
   "cell_type": "code",
   "execution_count": null,
   "id": "e70690b2-f3a5-4939-885a-2f68c28df469",
   "metadata": {},
   "outputs": [],
   "source": [
    "healthcare = survey.groupby('Used_before')['Healthcare'].value_counts(normalize=True).round(2).unstack().fillna(0)*100"
   ]
  },
  {
   "cell_type": "code",
   "execution_count": null,
   "id": "3fa6f513-a21f-4a64-b363-9f0150609e70",
   "metadata": {},
   "outputs": [],
   "source": [
    "healthcare = healthcare[['No, it should not be used at all', \n",
    "                                               \"I don't know, it is too early to make a statement\", \n",
    "                                               'Yes, it can be used for administrative purposes',\n",
    "                                               \"Yes, it can be used for any purpose\",]] "
   ]
  },
  {
   "cell_type": "code",
   "execution_count": null,
   "id": "ea9d7b89-128e-412b-b06e-0e0625944084",
   "metadata": {},
   "outputs": [],
   "source": [
    "healthcare_scale = \\\n",
    "    ['No, it should not be used at all', \n",
    "                                               \"I don't know, it is too early to make a statement\", \n",
    "                                               'Yes, it can be used for administrative purposes',\n",
    "                                               \"Yes, it can be used for any purpose\",]"
   ]
  },
  {
   "cell_type": "code",
   "execution_count": null,
   "id": "43f2c63a-9d2f-427f-b59b-fb096a28af21",
   "metadata": {},
   "outputs": [],
   "source": [
    "healthcare=healthcare.reindex(['No','Yes'])"
   ]
  },
  {
   "cell_type": "code",
   "execution_count": null,
   "id": "f798187d-6d97-40c6-84c5-3222cbd73fde",
   "metadata": {},
   "outputs": [],
   "source": [
    "ax = plot_likert.plot_counts(healthcare, healthcare_scale,\n",
    "                        plot_percentage=True,#bar_labels=True, \n",
    "                        colors=plot_likert.colors.default_with_darker_neutral,\n",
    "                        figsize=(10,4))\n",
    "\n",
    "ax.legend(fontsize=14) \n",
    "ax.legend(bbox_to_anchor=(1, .8),title=f'Healthcare and ChatGPT', title_fontsize=16,fontsize=14)\n",
    "ax.set_xticklabels(ax.get_xticklabels(), fontsize=12)\n",
    "ax.set_yticklabels(ax.get_yticklabels(), fontsize=12)     \n",
    "\n",
    "ax.set_ylabel(\"Used ChatGPT before\", size=16)"
   ]
  },
  {
   "cell_type": "code",
   "execution_count": null,
   "id": "acd8ea19-7773-44e5-8a6b-c7b742f5fb3c",
   "metadata": {},
   "outputs": [],
   "source": [
    "Research = survey.groupby('Used_before')['Research'].value_counts(normalize=True).round(2).unstack().fillna(0)*100"
   ]
  },
  {
   "cell_type": "code",
   "execution_count": null,
   "id": "430edf3b-5f18-45ff-b306-37077863a9c1",
   "metadata": {},
   "outputs": [],
   "source": [
    "Research = Research[['No, it should not be used at all', \n",
    "                                               \"I don't know, it is too early to make a statement\", \n",
    "                                               'Yes, but it should only be used to help brainstorm',\n",
    "                                               \"Yes, as long as its use is transparently disclosed\",\n",
    "                                               \"Yes, disclosure is NOT needed\"]] "
   ]
  },
  {
   "cell_type": "code",
   "execution_count": null,
   "id": "a062df09-4ffa-426b-a606-884d30e20711",
   "metadata": {},
   "outputs": [],
   "source": [
    "Research_scale = \\\n",
    "    ['No, it should not be used at all', \n",
    "                                               \"I don't know, it is too early to make a statement\", \n",
    "                                               'Yes, but it should only be used to help brainstorm',\n",
    "                                               \"Yes, as long as its use is transparently disclosed\",\n",
    "                                               \"Yes, disclosure is NOT needed\",]"
   ]
  },
  {
   "cell_type": "code",
   "execution_count": null,
   "id": "5fe3b68e-4470-4708-b9c9-0153dfd2e665",
   "metadata": {},
   "outputs": [],
   "source": [
    "Research=Research.reindex(['No','Yes'])"
   ]
  },
  {
   "cell_type": "code",
   "execution_count": null,
   "id": "c9082478-c835-484f-8976-517ced646835",
   "metadata": {},
   "outputs": [],
   "source": [
    "ax = plot_likert.plot_counts(Research, Research_scale,\n",
    "                        plot_percentage=True,#bar_labels=True, \n",
    "                        colors=plot_likert.colors.default_with_darker_neutral,\n",
    "                        figsize=(10,4), )\n",
    "\n",
    "ax.legend(fontsize=14) \n",
    "ax.legend(bbox_to_anchor=(1, .8),title=f'Research and ChatGPT', title_fontsize=16,fontsize=14)\n",
    "ax.set_xticklabels(ax.get_xticklabels(), fontsize=12)\n",
    "ax.set_yticklabels(ax.get_yticklabels(), fontsize=12)     \n",
    "\n",
    "ax.set_ylabel(\"Used ChatGPT before\", size=16)"
   ]
  },
  {
   "cell_type": "code",
   "execution_count": null,
   "id": "8506c0a4-248c-495c-a0fa-ed967a420a7f",
   "metadata": {},
   "outputs": [],
   "source": [
    "Education = survey.groupby('Used_before')['Education'].value_counts(normalize=True).round(2).unstack().fillna(0)*100"
   ]
  },
  {
   "cell_type": "code",
   "execution_count": null,
   "id": "8fb6e253-dd7f-46a3-8b60-853e70beed75",
   "metadata": {},
   "outputs": [],
   "source": [
    "Education = Education[['No, it should be banned', \"I don't know, it is too early to make a statement\", 'Yes, it should be actively incorporated',]] "
   ]
  },
  {
   "cell_type": "code",
   "execution_count": null,
   "id": "f5215aa6-26e3-4aa3-8fc1-87e932085357",
   "metadata": {},
   "outputs": [],
   "source": [
    "Education_scale = \\\n",
    "    ['','No, it should be banned', \"I don't know, it is too early to make a statement\", 'Yes, it should be actively incorporated',]"
   ]
  },
  {
   "cell_type": "code",
   "execution_count": null,
   "id": "c6eea5d7-9fd5-4b0c-86e0-5aec8b2d0295",
   "metadata": {},
   "outputs": [],
   "source": [
    "Education=Education.reindex(['No','Yes'])"
   ]
  },
  {
   "cell_type": "code",
   "execution_count": null,
   "id": "b71c1cb2-efb7-4db4-87f3-b328b4e136ba",
   "metadata": {},
   "outputs": [],
   "source": [
    "ax = plot_likert.plot_counts(Education, Education_scale,\n",
    "                        plot_percentage=True,#bar_labels=True, \n",
    "                        colors=plot_likert.colors.default_with_darker_neutral,\n",
    "                        figsize=(10,4), )\n",
    "\n",
    "ax.legend(fontsize=14) \n",
    "ax.legend(bbox_to_anchor=(1, .8),title=f'Education and ChatGPT', title_fontsize=16,fontsize=14)\n",
    "ax.set_xticklabels(ax.get_xticklabels(), fontsize=12)\n",
    "ax.set_yticklabels(ax.get_yticklabels(), fontsize=12)     \n",
    "\n",
    "ax.set_ylabel(\"Used ChatGPT before\", size=16)"
   ]
  },
  {
   "cell_type": "code",
   "execution_count": null,
   "id": "0865bf20-0c73-4b47-97d1-0f7a11811cce",
   "metadata": {},
   "outputs": [],
   "source": [
    "used = survey.groupby(['Role','Used_before']).size().reset_index().pivot(columns='Used_before', index='Role', values=0).apply(lambda x: x/sum(x)*100, axis=1)"
   ]
  },
  {
   "cell_type": "code",
   "execution_count": null,
   "id": "78fb7e9a-22da-4394-9084-edc6d7820c60",
   "metadata": {},
   "outputs": [],
   "source": [
    "scale = \\\n",
    "    ['No', 'Yes',]"
   ]
  },
  {
   "cell_type": "code",
   "execution_count": null,
   "id": "6b39df40-244c-4869-85c6-b6f2c8d8fe43",
   "metadata": {},
   "outputs": [],
   "source": [
    "used=used.reindex(['Medical Student, Resident, Fellow', 'Graduate Student, Postdoc Researcher', \n",
    "                                               'Clinical Faculty', 'Research Faculty', 'Administrative Staff', 'Other'])"
   ]
  },
  {
   "cell_type": "code",
   "execution_count": null,
   "id": "b85ed902-f2d8-402f-8022-cb6a39b5fd3d",
   "metadata": {},
   "outputs": [],
   "source": [
    "ax = plot_likert.plot_counts(used, scale,\n",
    "                        plot_percentage=True,#bar_labels=True, \n",
    "                        colors=[plot_likert.colors.TRANSPARENT,'lightcoral','cornflowerblue'],\n",
    "                        figsize=(10,5))\n",
    "\n",
    "ax.legend(fontsize=14) \n",
    "ax.legend(bbox_to_anchor=(0.2, 1),title=f'Used ChatGPT before?', title_fontsize=16,fontsize=14)\n",
    "ax.set_xticklabels(ax.get_xticklabels(), fontsize=12)\n",
    "ax.set_yticklabels(ax.get_yticklabels(), fontsize=14)     "
   ]
  },
  {
   "cell_type": "code",
   "execution_count": null,
   "id": "07c3d0fe-fd58-41c7-be70-4da47f0f80f0",
   "metadata": {},
   "outputs": [],
   "source": [
    "ax.get_figure().savefig('used_byrole.pdf')"
   ]
  },
  {
   "cell_type": "code",
   "execution_count": null,
   "id": "6d2522bf-8ad6-455b-a86f-9c0611a740f2",
   "metadata": {},
   "outputs": [],
   "source": [
    "sns.set_context(context='talk', font_scale=1, rc=None)"
   ]
  },
  {
   "cell_type": "code",
   "execution_count": null,
   "id": "0a17b9b2-de12-4813-bc26-0b2dfd1d2c57",
   "metadata": {},
   "outputs": [],
   "source": [
    "survey['Role'] = pd.Categorical(survey['Role'],\n",
    "                                   categories=['Medical Student, Resident, Fellow', 'Graduate Student, Postdoc Researcher', \n",
    "                                               'Clinical Faculty', 'Research Faculty', 'Administrative Staff', 'Other'],\n",
    "                                   ordered=True)"
   ]
  },
  {
   "cell_type": "code",
   "execution_count": null,
   "id": "ab6c5393-5789-490d-9173-7abaae469d0f",
   "metadata": {},
   "outputs": [],
   "source": []
  },
  {
   "cell_type": "code",
   "execution_count": null,
   "id": "c988e615-31e2-41a8-b302-f6aa6448893a",
   "metadata": {},
   "outputs": [],
   "source": [
    "fig.savefig('respondent_role.pdf')"
   ]
  },
  {
   "cell_type": "code",
   "execution_count": null,
   "id": "07b80c3f-5829-4ae3-9c2f-4ee2fb3ee5f6",
   "metadata": {},
   "outputs": [],
   "source": [
    "fig, ax = plt.subplots(figsize=(12, 6))\n",
    "fig = sns.histplot(data=survey, y='Role', x='Interested',cbar=True, )\n",
    "ax.set_ylabel(\"Role\", size=18)\n",
    "ax.set_xlabel(\"Interest in using ChatGPT \", size=20)\n",
    "\n",
    "plt.savefig('interested_byrole.pdf')"
   ]
  }
 ],
 "metadata": {
  "kernelspec": {
   "display_name": "Python 3 (ipykernel)",
   "language": "python",
   "name": "python3"
  },
  "language_info": {
   "codemirror_mode": {
    "name": "ipython",
    "version": 3
   },
   "file_extension": ".py",
   "mimetype": "text/x-python",
   "name": "python",
   "nbconvert_exporter": "python",
   "pygments_lexer": "ipython3",
   "version": "3.9.7"
  }
 },
 "nbformat": 4,
 "nbformat_minor": 5
}
